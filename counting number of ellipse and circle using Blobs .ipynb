{
 "cells": [
  {
   "cell_type": "code",
   "execution_count": 1,
   "metadata": {},
   "outputs": [],
   "source": [
    "import cv2\n",
    "import numpy as np\n"
   ]
  },
  {
   "cell_type": "code",
   "execution_count": null,
   "metadata": {},
   "outputs": [],
   "source": [
    "image = cv2.imread('blobs.jpg')\n",
    "cv2.imshow('original image', image)\n",
    "cv2.waitKey(0)"
   ]
  },
  {
   "cell_type": "code",
   "execution_count": null,
   "metadata": {},
   "outputs": [],
   "source": [
    "detector = cv2.SimpleBlobDetector_create()\n",
    "keyPoints = detector.detect(image)\n",
    "\n",
    "blank = np.zeros((1,1))\n",
    "blobs = cv2.drawKeypoints(image, keyPoints, blank, (0,0,255), cv2.DRAW_MATCHES_FLAGS_DRAW_RICH_KEYPOINTS)\n",
    "\n",
    "no_blobs = len(keyPoints)\n",
    "text = \"total number of blobs\" + str(no_blobs)\n",
    "\n",
    "cv2.putText(blobs, text, (20, 550), cv2.FONT_HERSHEY_SIMPLEX, 1, (100, 0, 255), 2)\n",
    "\n",
    "cv2.imshow(\"blobs using default parameter\", blobs)\n",
    "cv2.waitKey(0)"
   ]
  },
  {
   "cell_type": "code",
   "execution_count": null,
   "metadata": {},
   "outputs": [],
   "source": [
    "para = cv2.SimpleBlobDetector_Params()\n",
    "\n",
    "para.filterByArea = True\n",
    "para.minArea = 100\n",
    "\n",
    "para.filterByCircularity = True\n",
    "para.minCircularity = 0.9\n",
    "\n",
    "para.filterByInertia = True\n",
    "para.minInertiaRatio = 0.01"
   ]
  },
  {
   "cell_type": "code",
   "execution_count": null,
   "metadata": {},
   "outputs": [],
   "source": [
    "detector = cv2.SimpleBlobDetector_create(para)\n",
    "keyPoints = detector.detect(image)\n",
    "\n",
    "blank = np.zeros((1,1))\n",
    "blobs = cv2.drawKeypoints(image, keyPoints, blank, (0,255,22), cv2.DRAW_MATCHES_FLAGS_DRAW_RICH_KEYPOINTS)\n",
    "\n",
    "no_blobs = len(keyPoints)\n",
    "text = \"total number of blobs\" + str(no_blobs)\n",
    "\n",
    "cv2.putText(blobs, text, (20, 550), cv2.FONT_HERSHEY_SIMPLEX, 1, (100, 0, 255), 2)\n",
    "\n",
    "cv2.imshow(\"blobs using change parameter\", blobs)\n",
    "cv2.waitKey(0)"
   ]
  }
 ],
 "metadata": {
  "kernelspec": {
   "display_name": "Python 3",
   "language": "python",
   "name": "python3"
  },
  "language_info": {
   "codemirror_mode": {
    "name": "ipython",
    "version": 3
   },
   "file_extension": ".py",
   "mimetype": "text/x-python",
   "name": "python",
   "nbconvert_exporter": "python",
   "pygments_lexer": "ipython3",
   "version": "3.7.4"
  }
 },
 "nbformat": 4,
 "nbformat_minor": 2
}
